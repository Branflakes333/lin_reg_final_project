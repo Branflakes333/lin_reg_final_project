{
 "cells": [
  {
   "cell_type": "markdown",
   "metadata": {},
   "source": [
    "# OLS Regression Visualization"
   ]
  },
  {
   "cell_type": "markdown",
   "metadata": {},
   "source": [
    "### Packages and dataset"
   ]
  },
  {
   "cell_type": "code",
   "execution_count": 8,
   "metadata": {},
   "outputs": [],
   "source": [
    "import numpy as np\n",
    "import pandas as pd\n",
    "import matplotlib.pyplot as plt\n",
    "from sklearn.linear_model import LinearRegression, BayesianRidge\n",
    "from sklearn.metrics import mean_squared_error\n",
    "from sklearn.model_selection import train_test_split\n",
    "import dash\n",
    "from dash import dcc, html, Input, Output\n",
    "import plotly.graph_objects as go"
   ]
  },
  {
   "cell_type": "code",
   "execution_count": 9,
   "metadata": {},
   "outputs": [
    {
     "data": {
      "text/html": [
       "<div>\n",
       "<style scoped>\n",
       "    .dataframe tbody tr th:only-of-type {\n",
       "        vertical-align: middle;\n",
       "    }\n",
       "\n",
       "    .dataframe tbody tr th {\n",
       "        vertical-align: top;\n",
       "    }\n",
       "\n",
       "    .dataframe thead th {\n",
       "        text-align: right;\n",
       "    }\n",
       "</style>\n",
       "<table border=\"1\" class=\"dataframe\">\n",
       "  <thead>\n",
       "    <tr style=\"text-align: right;\">\n",
       "      <th></th>\n",
       "      <th>date</th>\n",
       "      <th>location_key</th>\n",
       "      <th>new_persons_vaccinated</th>\n",
       "      <th>cumulative_persons_vaccinated</th>\n",
       "      <th>new_confirmed</th>\n",
       "      <th>mobility_workplaces</th>\n",
       "    </tr>\n",
       "  </thead>\n",
       "  <tbody>\n",
       "    <tr>\n",
       "      <th>0</th>\n",
       "      <td>2022-05-09</td>\n",
       "      <td>US_VA</td>\n",
       "      <td>930.0</td>\n",
       "      <td>7326007.0</td>\n",
       "      <td>0.0</td>\n",
       "      <td>-13.0</td>\n",
       "    </tr>\n",
       "    <tr>\n",
       "      <th>1</th>\n",
       "      <td>2021-11-16</td>\n",
       "      <td>US_IA</td>\n",
       "      <td>11191.0</td>\n",
       "      <td>1934013.0</td>\n",
       "      <td>0.0</td>\n",
       "      <td>-11.0</td>\n",
       "    </tr>\n",
       "    <tr>\n",
       "      <th>2</th>\n",
       "      <td>2022-02-03</td>\n",
       "      <td>US_GA</td>\n",
       "      <td>0.0</td>\n",
       "      <td>6766353.0</td>\n",
       "      <td>485.0</td>\n",
       "      <td>23.0</td>\n",
       "    </tr>\n",
       "    <tr>\n",
       "      <th>3</th>\n",
       "      <td>2021-10-15</td>\n",
       "      <td>US_KY</td>\n",
       "      <td>2794.0</td>\n",
       "      <td>2767917.0</td>\n",
       "      <td>0.0</td>\n",
       "      <td>-21.0</td>\n",
       "    </tr>\n",
       "    <tr>\n",
       "      <th>4</th>\n",
       "      <td>2021-04-29</td>\n",
       "      <td>US_MN</td>\n",
       "      <td>20930.0</td>\n",
       "      <td>2621229.0</td>\n",
       "      <td>205.0</td>\n",
       "      <td>-14.0</td>\n",
       "    </tr>\n",
       "  </tbody>\n",
       "</table>\n",
       "</div>"
      ],
      "text/plain": [
       "         date location_key  new_persons_vaccinated  \\\n",
       "0  2022-05-09        US_VA                   930.0   \n",
       "1  2021-11-16        US_IA                 11191.0   \n",
       "2  2022-02-03        US_GA                     0.0   \n",
       "3  2021-10-15        US_KY                  2794.0   \n",
       "4  2021-04-29        US_MN                 20930.0   \n",
       "\n",
       "   cumulative_persons_vaccinated  new_confirmed  mobility_workplaces  \n",
       "0                      7326007.0            0.0                -13.0  \n",
       "1                      1934013.0            0.0                -11.0  \n",
       "2                      6766353.0          485.0                 23.0  \n",
       "3                      2767917.0            0.0                -21.0  \n",
       "4                      2621229.0          205.0                -14.0  "
      ]
     },
     "execution_count": 9,
     "metadata": {},
     "output_type": "execute_result"
    }
   ],
   "source": [
    "df = pd.read_csv(\"../data/cleaned_data.csv\")\n",
    "df.head()"
   ]
  },
  {
   "cell_type": "markdown",
   "metadata": {},
   "source": [
    "### Visual"
   ]
  },
  {
   "cell_type": "code",
   "execution_count": 14,
   "metadata": {},
   "outputs": [],
   "source": [
    "# Initialize Dash app\n",
    "app = dash.Dash(__name__)\n",
    "app.title = \"Interactive Linear Regression with DataFrame\"\n",
    "\n",
    "# Layout\n",
    "app.layout = html.Div([\n",
    "    html.H1(\"Interactive Simple Linear Regression\", style={'textAlign': 'center'}),\n",
    "\n",
    "    html.Div([\n",
    "        html.Label(\"Adjust Slope (β₁):\"),\n",
    "        dcc.Slider(\n",
    "            id='slope-slider', min=0, max=6, step=0.1, value=3,\n",
    "            marks={i: str(i) for i in range(0, 7)}\n",
    "        ),\n",
    "        html.Br(),\n",
    "\n",
    "        html.Label(\"Adjust Intercept (β₀):\"),\n",
    "        dcc.Slider(\n",
    "            id='intercept-slider', min=-5, max=10, step=0.5, value=5,\n",
    "            marks={i: str(i) for i in range(-5, 11, 2)}\n",
    "        ),\n",
    "    ], style={'width': '80%', 'margin': 'auto'}),\n",
    "\n",
    "    dcc.Graph(id='regression-plot', style={'height': '600px'}),\n",
    "])\n",
    "\n",
    "# Callback\n",
    "@app.callback(\n",
    "    Output('regression-plot', 'figure'),\n",
    "    Input('slope-slider', 'value'),\n",
    "    Input('intercept-slider', 'value')\n",
    ")\n",
    "def update_plot(slope, intercept):\n",
    "    X = df[\"mobility_workplaces\"]\n",
    "    Y = df[\"new_confirmed\"]\n",
    "    Y_pred = slope * X + intercept\n",
    "\n",
    "    # Compute Mean Squared Error\n",
    "    mse = np.mean((Y - Y_pred) ** 2)\n",
    "\n",
    "    # Create Plotly figure\n",
    "    fig = go.Figure()\n",
    "\n",
    "    # Scatter plot of actual data\n",
    "    fig.add_trace(go.Scatter(\n",
    "        x=X, y=Y, mode='markers',\n",
    "        name='Data Points', marker=dict(size=8, color='blue', opacity=0.7)\n",
    "    ))\n",
    "\n",
    "    # Regression line\n",
    "    fig.add_trace(go.Scatter(\n",
    "        x=X, y=Y_pred, mode='lines',\n",
    "        name=f'Line: y = {slope:.2f}x + {intercept:.2f}',\n",
    "        line=dict(color='red', width=3)\n",
    "    ))\n",
    "\n",
    "    # Layout\n",
    "    fig.update_layout(\n",
    "        title=f\"Simple Linear Regression | MSE = {mse:.2f}\",\n",
    "        xaxis_title=\"X\",\n",
    "        yaxis_title=\"Y\",\n",
    "        template=\"plotly_white\",\n",
    "        showlegend=True\n",
    "    )\n",
    "    fig.write_html(\"../plots/OLS_plot.html\", include_plotlyjs='cdn')\n",
    "    return fig"
   ]
  },
  {
   "cell_type": "code",
   "execution_count": 15,
   "metadata": {},
   "outputs": [
    {
     "data": {
      "text/html": [
       "\n",
       "        <iframe\n",
       "            width=\"100%\"\n",
       "            height=\"650\"\n",
       "            src=\"http://127.0.0.1:8050/\"\n",
       "            frameborder=\"0\"\n",
       "            allowfullscreen\n",
       "            \n",
       "        ></iframe>\n",
       "        "
      ],
      "text/plain": [
       "<IPython.lib.display.IFrame at 0x33c080190>"
      ]
     },
     "metadata": {},
     "output_type": "display_data"
    }
   ],
   "source": [
    "app.run(debug=True)"
   ]
  }
 ],
 "metadata": {
  "kernelspec": {
   "display_name": "lin_reg_fp",
   "language": "python",
   "name": "python3"
  },
  "language_info": {
   "codemirror_mode": {
    "name": "ipython",
    "version": 3
   },
   "file_extension": ".py",
   "mimetype": "text/x-python",
   "name": "python",
   "nbconvert_exporter": "python",
   "pygments_lexer": "ipython3",
   "version": "3.13.7"
  }
 },
 "nbformat": 4,
 "nbformat_minor": 2
}
